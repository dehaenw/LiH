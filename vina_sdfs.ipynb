{
 "cells": [
  {
   "cell_type": "code",
   "execution_count": 1,
   "id": "b7c9efb6-3539-4331-93b1-7099b9b959f4",
   "metadata": {},
   "outputs": [],
   "source": [
    "import pandas as pd\n",
    "from rdkit import Chem\n",
    "from rdkit.Chem import rdDistGeom\n",
    "df = pd.read_csv(\"lih_set.csv\")\n",
    "mols = [Chem.MolFromSmiles(smi) for smi in df[\"SMILES\"]]"
   ]
  },
  {
   "cell_type": "code",
   "execution_count": 3,
   "id": "acd5d50a-265b-4689-a32e-70af93a6dd14",
   "metadata": {},
   "outputs": [
    {
     "name": "stderr",
     "output_type": "stream",
     "text": [
      " 15%|██████▎                                   | 15/100 [04:26<30:04, 21.23s/it]WARNING:root:Molecule contains charged atom that is not N or O - careful!\n",
      " 69%|████████████████████████████▉             | 69/100 [13:51<01:36,  3.11s/it]WARNING:root:Molecule contains charged atom that is not N or O - careful!\n",
      "100%|█████████████████████████████████████████| 100/100 [15:44<00:00,  9.45s/it]\n"
     ]
    }
   ],
   "source": [
    "from dockstring import load_target\n",
    "from tqdm import tqdm\n",
    "vina_outs = []\n",
    "for smi in tqdm(df[\"SMILES\"]):\n",
    "    target = load_target('DRD2')\n",
    "    score, aux = target.dock(smi)\n",
    "    vina_outs.append(aux[\"ligand\"])"
   ]
  },
  {
   "cell_type": "code",
   "execution_count": 8,
   "id": "de6f6c06-46c3-486a-8371-994fee944506",
   "metadata": {},
   "outputs": [],
   "source": [
    "with Chem.SDWriter('vina_poses.sdf') as w:\n",
    "  for m in vina_outs:\n",
    "    w.write(m)"
   ]
  },
  {
   "cell_type": "code",
   "execution_count": 7,
   "id": "d56ac054-f91e-4281-8413-c961f1500ec9",
   "metadata": {},
   "outputs": [
    {
     "data": {
      "text/plain": [
       "[(0, 5, 4, 3, 2, 1), (7, 6, 10, 9, 8)]"
      ]
     },
     "execution_count": 7,
     "metadata": {},
     "output_type": "execute_result"
    }
   ],
   "source": [
    "sorted([tuple(a) for a in Chem.GetSSSR(Chem.MolFromSmiles(\"c1ccccc1C1CCCC1\"))])"
   ]
  },
  {
   "cell_type": "code",
   "execution_count": 6,
   "id": "d5c94a1d-6ae7-4f2c-b114-31b4c9fd94ce",
   "metadata": {},
   "outputs": [
    {
     "data": {
      "text/plain": [
       "[(0, 1, 2, 3, 4), (6, 7, 8, 9, 10, 5)]"
      ]
     },
     "execution_count": 6,
     "metadata": {},
     "output_type": "execute_result"
    }
   ],
   "source": [
    "sorted([tuple(a) for a in Chem.GetSSSR(Chem.MolFromSmiles(\"C1CCCC1c1ccccc1\"))])"
   ]
  },
  {
   "cell_type": "code",
   "execution_count": null,
   "id": "dc984f99-e4e2-4085-96b9-cc926996ddce",
   "metadata": {},
   "outputs": [],
   "source": []
  }
 ],
 "metadata": {
  "kernelspec": {
   "display_name": "Python 3 (ipykernel)",
   "language": "python",
   "name": "python3"
  },
  "language_info": {
   "codemirror_mode": {
    "name": "ipython",
    "version": 3
   },
   "file_extension": ".py",
   "mimetype": "text/x-python",
   "name": "python",
   "nbconvert_exporter": "python",
   "pygments_lexer": "ipython3",
   "version": "3.10.17"
  }
 },
 "nbformat": 4,
 "nbformat_minor": 5
}
